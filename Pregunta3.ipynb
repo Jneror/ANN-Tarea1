{
 "cells": [
  {
   "cell_type": "code",
   "execution_count": 1,
   "metadata": {},
   "outputs": [],
   "source": [
    "import scipy.io as sio"
   ]
  },
  {
   "cell_type": "code",
   "execution_count": 12,
   "metadata": {},
   "outputs": [
    {
     "name": "stdout",
     "output_type": "stream",
     "text": [
      "(3500, 14)\n",
      "(1050, 14)\n"
     ]
    }
   ],
   "source": [
    "mat_train = sio.loadmat(\"AgeGenderClassification/eventrain.mat\")\n",
    "mat_test = sio.loadmat(\"AgeGenderClassification//eventest.mat\")\n",
    "data_train = mat_train[\"trcoll\"][0][0]\n",
    "data_test = mat_test[\"tecoll\"][0][0]\n",
    "print(data_train[0].shape)\n",
    "print(data_test[0].shape)"
   ]
  }
 ],
 "metadata": {
  "kernelspec": {
   "display_name": "Python 3",
   "language": "python",
   "name": "python3"
  },
  "language_info": {
   "codemirror_mode": {
    "name": "ipython",
    "version": 3
   },
   "file_extension": ".py",
   "mimetype": "text/x-python",
   "name": "python",
   "nbconvert_exporter": "python",
   "pygments_lexer": "ipython3",
   "version": "3.6.6"
  }
 },
 "nbformat": 4,
 "nbformat_minor": 2
}
